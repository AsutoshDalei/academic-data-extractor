{
 "cells": [
  {
   "cell_type": "markdown",
   "id": "365703a6-47de-421c-b627-bcbecfa53cf1",
   "metadata": {},
   "source": [
    "# Playground Notebook\n",
    "**Notebook to experiment with web scraping and text summarization.**"
   ]
  },
  {
   "cell_type": "code",
   "execution_count": 2,
   "id": "d7e8f5e2-8475-4740-a922-d4a3c63c1529",
   "metadata": {},
   "outputs": [],
   "source": [
    "import requests\n",
    "from bs4 import BeautifulSoup"
   ]
  },
  {
   "cell_type": "code",
   "execution_count": 3,
   "id": "9622ffaa-fd1d-41d8-9113-cbf86b087911",
   "metadata": {},
   "outputs": [],
   "source": [
    "def fetchURL(url):\n",
    "    response = requests.get(url)\n",
    "    return response.text\n",
    "\n",
    "fetchURL = lambda url : requests.get(url).text"
   ]
  },
  {
   "cell_type": "code",
   "execution_count": null,
   "id": "4b0a3f5a-d8af-40ab-87d1-c9e96ea2ebf5",
   "metadata": {},
   "outputs": [],
   "source": []
  },
  {
   "cell_type": "code",
   "execution_count": null,
   "id": "4ee66999-d414-4605-8703-3cf8bab1afdc",
   "metadata": {},
   "outputs": [],
   "source": []
  },
  {
   "cell_type": "code",
   "execution_count": null,
   "id": "0c454caf-a66a-428a-9bcc-f5eb09a54425",
   "metadata": {},
   "outputs": [],
   "source": []
  },
  {
   "cell_type": "code",
   "execution_count": null,
   "id": "fa8741c6-62f8-4eb4-8153-277ff01c5b4e",
   "metadata": {},
   "outputs": [],
   "source": []
  }
 ],
 "metadata": {
  "kernelspec": {
   "display_name": "Python 3 (ipykernel)",
   "language": "python",
   "name": "python3"
  },
  "language_info": {
   "codemirror_mode": {
    "name": "ipython",
    "version": 3
   },
   "file_extension": ".py",
   "mimetype": "text/x-python",
   "name": "python",
   "nbconvert_exporter": "python",
   "pygments_lexer": "ipython3",
   "version": "3.9.6"
  }
 },
 "nbformat": 4,
 "nbformat_minor": 5
}
