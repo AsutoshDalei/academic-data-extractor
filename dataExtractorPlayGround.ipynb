{
 "cells": [
  {
   "cell_type": "markdown",
   "id": "365703a6-47de-421c-b627-bcbecfa53cf1",
   "metadata": {},
   "source": [
    "# Faculty Directory Crawler Project\n",
    "This Python project uses Beautiful Soup to crawl the university’s faculty directory and extract key information:\n",
    "* Name\n",
    "* Email address\n",
    "* Position\n",
    "* Bio content\n",
    "   \n",
    "The crawler will navigate through directory pages, parse HTML content, and store extracted data efficiently. Key considerations include ethical web scraping practices.\n",
    "This tool will create a comprehensive dataset of faculty information for various academic and administrative purposes.\n",
    "\n",
    "**Purpose of the notebook is to experiment with web scraping and text summarization.**"
   ]
  },
  {
   "cell_type": "code",
   "execution_count": 1,
   "id": "d7e8f5e2-8475-4740-a922-d4a3c63c1529",
   "metadata": {},
   "outputs": [
    {
     "name": "stderr",
     "output_type": "stream",
     "text": [
      "/Users/asutoshdalei/Desktop/Work/solar/lib/python3.9/site-packages/urllib3/__init__.py:35: NotOpenSSLWarning: urllib3 v2 only supports OpenSSL 1.1.1+, currently the 'ssl' module is compiled with 'LibreSSL 2.8.3'. See: https://github.com/urllib3/urllib3/issues/3020\n",
      "  warnings.warn(\n"
     ]
    }
   ],
   "source": [
    "import requests\n",
    "import urllib3\n",
    "from bs4 import BeautifulSoup\n",
    "import re\n",
    "from tqdm import tqdm\n",
    "import pandas as pd"
   ]
  },
  {
   "cell_type": "markdown",
   "id": "3433a31a-b832-4fc4-be6b-9df772c323e3",
   "metadata": {},
   "source": [
    "## FetchURL Content\n",
    "* Using URLLIB3 to fetch the URL's content\n",
    "* Using BeautifulSoup to read/parse the content further"
   ]
  },
  {
   "cell_type": "code",
   "execution_count": 2,
   "id": "9622ffaa-fd1d-41d8-9113-cbf86b087911",
   "metadata": {},
   "outputs": [],
   "source": [
    "fetchURL = lambda url: urllib3.PoolManager().request('GET', url).data"
   ]
  },
  {
   "cell_type": "code",
   "execution_count": 3,
   "id": "4b0a3f5a-d8af-40ab-87d1-c9e96ea2ebf5",
   "metadata": {},
   "outputs": [
    {
     "name": "stdout",
     "output_type": "stream",
     "text": [
      "CPU times: user 40.1 ms, sys: 5.3 ms, total: 45.4 ms\n",
      "Wall time: 815 ms\n"
     ]
    }
   ],
   "source": [
    "%%time\n",
    "sampleUrl = 'https://www.rhsmith.umd.edu/directory'\n",
    "\n",
    "html_content = fetchURL(sampleUrl)\n",
    "\n",
    "soup = BeautifulSoup(html_content, 'lxml')"
   ]
  },
  {
   "cell_type": "markdown",
   "id": "91c831f3-f2a8-4107-af0b-3cb7c82df66a",
   "metadata": {},
   "source": [
    "## Finding Tags"
   ]
  },
  {
   "cell_type": "markdown",
   "id": "3e425d47-06e9-4f8e-89ea-6d56d7b4ce91",
   "metadata": {},
   "source": [
    "### Name Tag"
   ]
  },
  {
   "cell_type": "code",
   "execution_count": 4,
   "id": "a832de4b-0324-4f32-8d4b-0dbdabccf0ea",
   "metadata": {},
   "outputs": [
    {
     "name": "stdout",
     "output_type": "stream",
     "text": [
      "10\n"
     ]
    }
   ],
   "source": [
    "tagList = soup.find_all('div',attrs={'class':\"col-12 mb-4\"})\n",
    "print(len(tagList))\n",
    "tag = tagList[0]"
   ]
  },
  {
   "cell_type": "code",
   "execution_count": 5,
   "id": "380fceec-8088-410d-a329-e8164d76e21f",
   "metadata": {},
   "outputs": [
    {
     "data": {
      "text/plain": [
       "<div class=\"col-12 mb-4\">\n",
       "<div class=\"row\">\n",
       "<div class=\"col-12 col-800-3 mb-3 mb-800-0\">\n",
       "<img alt=\"Suresh Acharya\" class=\"w-100\" src=\"/sites/default/files/people/headshots/acharya-suresh.jpg\"/>\n",
       "</div>\n",
       "<div class=\"col-12 col-800-6\">\n",
       "<p class=\"h3 mb-1 person-name\">\n",
       "<a class=\"fancy-link\" href=\"/directory/suresh-acharya\">Suresh Acharya</a>\n",
       "</p>\n",
       "<ul><li>Professor of Practice</li><li>Academic Director, MS in Business Analytics</li></ul>\n",
       "<div>Decision, Operations and Information Technologies</div>\n",
       "<div>AI Faculty, Social Impact</div>\n",
       "</div>\n",
       "<div class=\"col-12 col-800-3\">\n",
       "<p class=\"profile-subheading\">Contact</p>\n",
       "<div>\n",
       "<a href=\"tel:301-405-9678\">301-405-9678</a>\n",
       "</div>\n",
       "<div>\n",
       "<a href=\"mailto:suresh12@umd.edu\">suresh12@umd.edu</a>\n",
       "</div>\n",
       "<div>4342 Van Munching Hall</div>\n",
       "</div>\n",
       "</div>\n",
       "</div>"
      ]
     },
     "execution_count": 5,
     "metadata": {},
     "output_type": "execute_result"
    }
   ],
   "source": [
    "tag"
   ]
  },
  {
   "cell_type": "code",
   "execution_count": 6,
   "id": "af8079a6-e7c9-4965-9af3-f537328bc9ee",
   "metadata": {},
   "outputs": [
    {
     "data": {
      "text/plain": [
       "'Suresh Acharya'"
      ]
     },
     "execution_count": 6,
     "metadata": {},
     "output_type": "execute_result"
    }
   ],
   "source": [
    "tag.find('a',attrs={'class':'fancy-link'}).string"
   ]
  },
  {
   "cell_type": "markdown",
   "id": "95b95e06-2a10-420b-911e-db44b69b5663",
   "metadata": {},
   "source": [
    "### Mail Tag"
   ]
  },
  {
   "cell_type": "code",
   "execution_count": 7,
   "id": "750da28b-6d54-471e-92f8-b735716de1ca",
   "metadata": {},
   "outputs": [
    {
     "data": {
      "text/plain": [
       "'suresh12@umd.edu'"
      ]
     },
     "execution_count": 7,
     "metadata": {},
     "output_type": "execute_result"
    }
   ],
   "source": [
    "tag.find('a',href=re.compile(r'^mailto')).string"
   ]
  },
  {
   "cell_type": "markdown",
   "id": "ee673939-e52f-43e1-9710-179303ca15b5",
   "metadata": {},
   "source": [
    "### Position Tag"
   ]
  },
  {
   "cell_type": "code",
   "execution_count": 8,
   "id": "f1a1a6d1-51ef-4d83-867d-b3ab1ca24c91",
   "metadata": {},
   "outputs": [
    {
     "data": {
      "text/plain": [
       "[<li>Professor of Practice</li>,\n",
       " <li>Academic Director, MS in Business Analytics</li>]"
      ]
     },
     "execution_count": 8,
     "metadata": {},
     "output_type": "execute_result"
    }
   ],
   "source": [
    "tag.find('ul').find_all('li')"
   ]
  },
  {
   "cell_type": "code",
   "execution_count": 9,
   "id": "1b497a8a-a727-40f2-930d-a439fcd2510d",
   "metadata": {},
   "outputs": [
    {
     "data": {
      "text/plain": [
       "'Professor of Practice$Academic Director, MS in Business Analytics$'"
      ]
     },
     "execution_count": 9,
     "metadata": {},
     "output_type": "execute_result"
    }
   ],
   "source": [
    "finPos = ''\n",
    "for pos in tag.find('ul').find_all('li'):\n",
    "    finPos += pos.string + '$'\n",
    "finPos"
   ]
  },
  {
   "cell_type": "markdown",
   "id": "902a53c5-d0d9-489b-831d-45e8718d0c6f",
   "metadata": {},
   "source": [
    "### HREF Tag"
   ]
  },
  {
   "cell_type": "code",
   "execution_count": 10,
   "id": "3ef7926a-b5a4-4508-b38b-897a73aaa004",
   "metadata": {},
   "outputs": [
    {
     "data": {
      "text/plain": [
       "<a class=\"fancy-link\" href=\"/directory/suresh-acharya\">Suresh Acharya</a>"
      ]
     },
     "execution_count": 10,
     "metadata": {},
     "output_type": "execute_result"
    }
   ],
   "source": [
    "tag.find('a',attrs={'class':'fancy-link'})"
   ]
  },
  {
   "cell_type": "code",
   "execution_count": 11,
   "id": "e9d97f71-3554-4ba0-bd13-b1b26b878f2f",
   "metadata": {},
   "outputs": [
    {
     "data": {
      "text/plain": [
       "'/directory/suresh-acharya'"
      ]
     },
     "execution_count": 11,
     "metadata": {},
     "output_type": "execute_result"
    }
   ],
   "source": [
    "link = tag.find('a',attrs={'class':'fancy-link'}).get('href')\n",
    "link"
   ]
  },
  {
   "cell_type": "code",
   "execution_count": 12,
   "id": "a9a04fa6-73d2-47c8-b3a4-074d0ecf80c2",
   "metadata": {},
   "outputs": [
    {
     "data": {
      "text/plain": [
       "'https://www.rhsmith.umd.edu/directory/+suresh-acharya'"
      ]
     },
     "execution_count": 12,
     "metadata": {},
     "output_type": "execute_result"
    }
   ],
   "source": [
    "f\"{sampleUrl}/+{link.split('/')[-1]}\""
   ]
  },
  {
   "cell_type": "markdown",
   "id": "1465dc48-8afe-495e-bf52-92ae1a6a7b3b",
   "metadata": {},
   "source": [
    "### Content Section"
   ]
  },
  {
   "cell_type": "code",
   "execution_count": 159,
   "id": "8d9fce39-0210-46b0-85f4-3b430f89d717",
   "metadata": {},
   "outputs": [
    {
     "name": "stdout",
     "output_type": "stream",
     "text": [
      "CPU times: user 46 ms, sys: 4.75 ms, total: 50.7 ms\n",
      "Wall time: 247 ms\n"
     ]
    }
   ],
   "source": [
    "%%time\n",
    "sampleContentUrl = f\"{sampleUrl}/{link.split('/')[-1]}\"\n",
    "\n",
    "html_contentV2 = fetchURL(sampleContentUrl)\n",
    "\n",
    "soupV2 = BeautifulSoup(html_contentV2, 'lxml')"
   ]
  },
  {
   "cell_type": "code",
   "execution_count": 167,
   "id": "d7a5c984-8bdb-4cc7-ac38-a077dcca1d43",
   "metadata": {},
   "outputs": [
    {
     "data": {
      "text/plain": [
       "'Suresh Acharya is Professor of Practice and the Academic Director for the MS in Business Analytics programs at the Robert H. Smith School of Business. Suresh has spent over 25 years designing and building statistical and optimization solutions in the areas of Supply Chain Management, Retail Planning, Airline Operations, Logistics, and Pricing and Revenue Management.\\xa0As a practicing analytics professional, Suresh continues to work with Fortune 500 companies in delivering practical algorithmic solutions that demonstrate measurable customer value. His experience helps students gain real world insights as they prepare themselves for a fulfilling career in Analytics.\\xa0Suresh has a Masters in Mathematical Sciences from Clemson University and a Masters in Operations Research from the University of North Carolina.'"
      ]
     },
     "execution_count": 167,
     "metadata": {},
     "output_type": "execute_result"
    }
   ],
   "source": [
    "soupV2.find('div',attrs={'class':\"profile-bio editor-content\"}).p.string"
   ]
  },
  {
   "cell_type": "markdown",
   "id": "65a6ce45-e75e-4491-b250-9dbaba4c82b9",
   "metadata": {},
   "source": [
    "## Merging them all"
   ]
  },
  {
   "cell_type": "code",
   "execution_count": 183,
   "id": "22e9e706-d3ad-4a29-acb1-7c9a27a4fac5",
   "metadata": {},
   "outputs": [
    {
     "name": "stderr",
     "output_type": "stream",
     "text": [
      "100%|███████████████████████████████████████████| 10/10 [00:03<00:00,  3.08it/s]"
     ]
    },
    {
     "name": "stdout",
     "output_type": "stream",
     "text": [
      "CPU times: user 524 ms, sys: 26.6 ms, total: 551 ms\n",
      "Wall time: 3.25 s\n"
     ]
    },
    {
     "name": "stderr",
     "output_type": "stream",
     "text": [
      "\n"
     ]
    }
   ],
   "source": [
    "%%time\n",
    "directory = {'name':[],'email':[],'position':[],'bio':[]}\n",
    "try:\n",
    "    for tag in tqdm(tagList):\n",
    "        name = tag.find('a',attrs={'class':'fancy-link'}).string\n",
    "        email = tag.find('a',href=re.compile(r'^mailto')).string\n",
    "        finPos = ''\n",
    "        for pos in tag.find('ul').find_all('li'):\n",
    "            finPos += pos.string + '$'\n",
    "            \n",
    "        link = tag.find('a',attrs={'class':'fancy-link'}).get('href')\n",
    "        contentUrl = f\"{sampleUrl}/{link.split('/')[-1]}\"\n",
    "        html_contentV2 = fetchURL(contentUrl)\n",
    "        soupV2 = BeautifulSoup(html_contentV2, 'lxml')\n",
    "        bio = soupV2.find('div',attrs={'class':\"profile-bio editor-content\"}).p.string\n",
    "\n",
    "        directory['name'].append(name)\n",
    "        directory['email'].append(email)\n",
    "        directory['position'].append(finPos)\n",
    "        directory['bio'].append(bio)\n",
    "\n",
    "except Exception as e:\n",
    "    print(e)\n",
    "        "
   ]
  },
  {
   "cell_type": "code",
   "execution_count": 184,
   "id": "77098aaf-66ec-4923-ac06-2f31ecffc72e",
   "metadata": {},
   "outputs": [
    {
     "data": {
      "text/html": [
       "<div>\n",
       "<style scoped>\n",
       "    .dataframe tbody tr th:only-of-type {\n",
       "        vertical-align: middle;\n",
       "    }\n",
       "\n",
       "    .dataframe tbody tr th {\n",
       "        vertical-align: top;\n",
       "    }\n",
       "\n",
       "    .dataframe thead th {\n",
       "        text-align: right;\n",
       "    }\n",
       "</style>\n",
       "<table border=\"1\" class=\"dataframe\">\n",
       "  <thead>\n",
       "    <tr style=\"text-align: right;\">\n",
       "      <th></th>\n",
       "      <th>name</th>\n",
       "      <th>email</th>\n",
       "      <th>position</th>\n",
       "      <th>bio</th>\n",
       "    </tr>\n",
       "  </thead>\n",
       "  <tbody>\n",
       "    <tr>\n",
       "      <th>0</th>\n",
       "      <td>Suresh Acharya</td>\n",
       "      <td>suresh12@umd.edu</td>\n",
       "      <td>Professor of Practice$Academic Director, MS in...</td>\n",
       "      <td>Suresh Acharya is Professor of Practice and th...</td>\n",
       "    </tr>\n",
       "    <tr>\n",
       "      <th>1</th>\n",
       "      <td>Rajshree Agarwal</td>\n",
       "      <td>rajshree@umd.edu</td>\n",
       "      <td>Rudolph Lamone Chair of Strategy and Entrepren...</td>\n",
       "      <td>Rajshree Agarwal is the Rudolph Lamone Chair o...</td>\n",
       "    </tr>\n",
       "    <tr>\n",
       "      <th>2</th>\n",
       "      <td>Aysun Alp Paukowits</td>\n",
       "      <td>alpaysun@umd.edu</td>\n",
       "      <td>Visiting Assistant Professor of Finance$</td>\n",
       "      <td>Aysun Alp Paukowits joined the Robert H. Smith...</td>\n",
       "    </tr>\n",
       "    <tr>\n",
       "      <th>3</th>\n",
       "      <td>Tejwansh (Tej) Singh Anand</td>\n",
       "      <td>tejanand@umd.edu</td>\n",
       "      <td>Clinical Professor$Academic Director, MS in In...</td>\n",
       "      <td>Tejwansh (Tej) Singh Anand is a Clinical Profe...</td>\n",
       "    </tr>\n",
       "    <tr>\n",
       "      <th>4</th>\n",
       "      <td>G. “Anand” Anandalingam</td>\n",
       "      <td>ganand@umd.edu</td>\n",
       "      <td>Ralph J. Tyser Professor of Management Science$</td>\n",
       "      <td>Professor G. 'Anand' Anandalingam is the Ralph...</td>\n",
       "    </tr>\n",
       "    <tr>\n",
       "      <th>5</th>\n",
       "      <td>T. Leigh Anenson</td>\n",
       "      <td>lanenson@umd.edu</td>\n",
       "      <td>Professor$Associate Director, C-BERC$</td>\n",
       "      <td>TERP Teaching Essentials</td>\n",
       "    </tr>\n",
       "    <tr>\n",
       "      <th>6</th>\n",
       "      <td>Manmohan Aseri</td>\n",
       "      <td>maseri@umd.edu</td>\n",
       "      <td>Assistant Professor of Information Systems$</td>\n",
       "      <td>Manmohan Aseri is an Assistant Professor of De...</td>\n",
       "    </tr>\n",
       "    <tr>\n",
       "      <th>7</th>\n",
       "      <td>Joseph P. Bailey</td>\n",
       "      <td>jpbailey@umd.edu</td>\n",
       "      <td>Associate Dean of Undergraduate Programs$Assoc...</td>\n",
       "      <td>Joseph P. Bailey's research and teaching inter...</td>\n",
       "    </tr>\n",
       "    <tr>\n",
       "      <th>8</th>\n",
       "      <td>M. Gisela Bardossy</td>\n",
       "      <td>bardossy@umd.edu</td>\n",
       "      <td>Faculty Director, QUEST$Associate Clinical Pro...</td>\n",
       "      <td>M. Gisela Bardossy is a Clinical Professor in ...</td>\n",
       "    </tr>\n",
       "    <tr>\n",
       "      <th>9</th>\n",
       "      <td>Progyan Basu</td>\n",
       "      <td>pbasu@umd.edu</td>\n",
       "      <td>Clinical Professor$</td>\n",
       "      <td>Dr. Basu has over 30 years of experience teach...</td>\n",
       "    </tr>\n",
       "  </tbody>\n",
       "</table>\n",
       "</div>"
      ],
      "text/plain": [
       "                         name             email  \\\n",
       "0              Suresh Acharya  suresh12@umd.edu   \n",
       "1            Rajshree Agarwal  rajshree@umd.edu   \n",
       "2         Aysun Alp Paukowits  alpaysun@umd.edu   \n",
       "3  Tejwansh (Tej) Singh Anand  tejanand@umd.edu   \n",
       "4     G. “Anand” Anandalingam    ganand@umd.edu   \n",
       "5            T. Leigh Anenson  lanenson@umd.edu   \n",
       "6              Manmohan Aseri    maseri@umd.edu   \n",
       "7           Joseph P. Bailey   jpbailey@umd.edu   \n",
       "8          M. Gisela Bardossy  bardossy@umd.edu   \n",
       "9                Progyan Basu     pbasu@umd.edu   \n",
       "\n",
       "                                            position  \\\n",
       "0  Professor of Practice$Academic Director, MS in...   \n",
       "1  Rudolph Lamone Chair of Strategy and Entrepren...   \n",
       "2           Visiting Assistant Professor of Finance$   \n",
       "3  Clinical Professor$Academic Director, MS in In...   \n",
       "4    Ralph J. Tyser Professor of Management Science$   \n",
       "5              Professor$Associate Director, C-BERC$   \n",
       "6        Assistant Professor of Information Systems$   \n",
       "7  Associate Dean of Undergraduate Programs$Assoc...   \n",
       "8  Faculty Director, QUEST$Associate Clinical Pro...   \n",
       "9                                Clinical Professor$   \n",
       "\n",
       "                                                 bio  \n",
       "0  Suresh Acharya is Professor of Practice and th...  \n",
       "1  Rajshree Agarwal is the Rudolph Lamone Chair o...  \n",
       "2  Aysun Alp Paukowits joined the Robert H. Smith...  \n",
       "3  Tejwansh (Tej) Singh Anand is a Clinical Profe...  \n",
       "4  Professor G. 'Anand' Anandalingam is the Ralph...  \n",
       "5                           TERP Teaching Essentials  \n",
       "6  Manmohan Aseri is an Assistant Professor of De...  \n",
       "7  Joseph P. Bailey's research and teaching inter...  \n",
       "8  M. Gisela Bardossy is a Clinical Professor in ...  \n",
       "9  Dr. Basu has over 30 years of experience teach...  "
      ]
     },
     "execution_count": 184,
     "metadata": {},
     "output_type": "execute_result"
    }
   ],
   "source": [
    "pd.DataFrame(directory)"
   ]
  },
  {
   "cell_type": "code",
   "execution_count": null,
   "id": "93a0f66d-96c8-44cb-abb2-70e4021bcf2d",
   "metadata": {},
   "outputs": [],
   "source": []
  },
  {
   "cell_type": "code",
   "execution_count": null,
   "id": "fed8aa96-3dff-49a6-88ed-59ed38ef9338",
   "metadata": {},
   "outputs": [],
   "source": []
  }
 ],
 "metadata": {
  "kernelspec": {
   "display_name": "solar",
   "language": "python",
   "name": "python3"
  },
  "language_info": {
   "codemirror_mode": {
    "name": "ipython",
    "version": 3
   },
   "file_extension": ".py",
   "mimetype": "text/x-python",
   "name": "python",
   "nbconvert_exporter": "python",
   "pygments_lexer": "ipython3",
   "version": "3.9.6"
  }
 },
 "nbformat": 4,
 "nbformat_minor": 5
}
