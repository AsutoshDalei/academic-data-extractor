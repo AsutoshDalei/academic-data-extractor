{
 "cells": [
  {
   "cell_type": "markdown",
   "id": "365703a6-47de-421c-b627-bcbecfa53cf1",
   "metadata": {},
   "source": [
    "# Playground Notebook\n",
    "**Notebook to experiment with web scraping and text summarization.**"
   ]
  },
  {
   "cell_type": "code",
   "execution_count": 33,
   "id": "d7e8f5e2-8475-4740-a922-d4a3c63c1529",
   "metadata": {},
   "outputs": [],
   "source": [
    "import requests\n",
    "import urllib3\n",
    "from bs4 import BeautifulSoup\n",
    "\n",
    "from tqdm import tqdm"
   ]
  },
  {
   "cell_type": "code",
   "execution_count": 23,
   "id": "9622ffaa-fd1d-41d8-9113-cbf86b087911",
   "metadata": {},
   "outputs": [],
   "source": [
    "def fetchURL(url):\n",
    "    response = requests.get(url)\n",
    "    return response\n",
    "\n",
    "fetchURL = lambda url : requests.get(url).data\n",
    "\n",
    "fetchURL = lambda url: urllib3.PoolManager().request('GET', url).data"
   ]
  },
  {
   "cell_type": "code",
   "execution_count": 24,
   "id": "4b0a3f5a-d8af-40ab-87d1-c9e96ea2ebf5",
   "metadata": {},
   "outputs": [
    {
     "name": "stdout",
     "output_type": "stream",
     "text": [
      "CPU times: user 24.3 ms, sys: 5.44 ms, total: 29.7 ms\n",
      "Wall time: 225 ms\n"
     ]
    }
   ],
   "source": [
    "%%time\n",
    "sampleUrl = 'https://www.rhsmith.umd.edu/directory'\n",
    "\n",
    "html_content = fetchURL(sampleUrl)\n",
    "\n",
    "soup = BeautifulSoup(html_content, 'lxml')"
   ]
  },
  {
   "cell_type": "code",
   "execution_count": 28,
   "id": "4ee66999-d414-4605-8703-3cf8bab1afdc",
   "metadata": {},
   "outputs": [],
   "source": [
    "# soup"
   ]
  },
  {
   "cell_type": "code",
   "execution_count": 44,
   "id": "a832de4b-0324-4f32-8d4b-0dbdabccf0ea",
   "metadata": {},
   "outputs": [],
   "source": [
    "tagList = soup.findAll('a',attrs={'class':'fancy-link'})"
   ]
  },
  {
   "cell_type": "code",
   "execution_count": 49,
   "id": "380fceec-8088-410d-a329-e8164d76e21f",
   "metadata": {},
   "outputs": [],
   "source": [
    "len(tagList)\n",
    "tag = tagList[0]"
   ]
  },
  {
   "cell_type": "code",
   "execution_count": 54,
   "id": "781e3e73-079e-4b87-a34e-2af3f5899c39",
   "metadata": {},
   "outputs": [
    {
     "data": {
      "text/plain": [
       "{'class': ['fancy-link'], 'href': '/directory/suresh-acharya'}"
      ]
     },
     "execution_count": 54,
     "metadata": {},
     "output_type": "execute_result"
    }
   ],
   "source": [
    "tag.attrs"
   ]
  },
  {
   "cell_type": "code",
   "execution_count": 60,
   "id": "fe70c85c-098f-4a50-928c-203d43a21ad6",
   "metadata": {},
   "outputs": [
    {
     "data": {
      "text/plain": [
       "'Suresh Acharya'"
      ]
     },
     "execution_count": 60,
     "metadata": {},
     "output_type": "execute_result"
    }
   ],
   "source": [
    "# for tag in tqdm(tagList):\n",
    "tag.get_text()"
   ]
  },
  {
   "cell_type": "code",
   "execution_count": null,
   "id": "a0000641-1689-4e75-b4f3-04b7c2cbfee7",
   "metadata": {},
   "outputs": [],
   "source": []
  },
  {
   "cell_type": "code",
   "execution_count": 64,
   "id": "96015fea-dfd8-4657-9cb4-d1e428d2b2a3",
   "metadata": {},
   "outputs": [],
   "source": [
    "tagList = soup.findAll('div',attrs={'class':\"col-12 mb-4\"})"
   ]
  },
  {
   "cell_type": "code",
   "execution_count": 65,
   "id": "0c454caf-a66a-428a-9bcc-f5eb09a54425",
   "metadata": {},
   "outputs": [
    {
     "data": {
      "text/plain": [
       "10"
      ]
     },
     "execution_count": 65,
     "metadata": {},
     "output_type": "execute_result"
    }
   ],
   "source": [
    "len(tagList)"
   ]
  },
  {
   "cell_type": "code",
   "execution_count": 66,
   "id": "fa8741c6-62f8-4eb4-8153-277ff01c5b4e",
   "metadata": {},
   "outputs": [
    {
     "data": {
      "text/plain": [
       "<div class=\"col-12 mb-4\">\n",
       "<div class=\"row\">\n",
       "<div class=\"col-12 col-800-3 mb-3 mb-800-0\">\n",
       "<img alt=\"Suresh Acharya\" class=\"w-100\" src=\"/sites/default/files/people/headshots/acharya-suresh.jpg\"/>\n",
       "</div>\n",
       "<div class=\"col-12 col-800-6\">\n",
       "<p class=\"h3 mb-1 person-name\">\n",
       "<a class=\"fancy-link\" href=\"/directory/suresh-acharya\">Suresh Acharya</a>\n",
       "</p>\n",
       "<ul><li>Professor of Practice</li><li>Academic Director, MS in Business Analytics</li></ul>\n",
       "<div>Decision, Operations and Information Technologies</div>\n",
       "<div>AI Faculty, Social Impact</div>\n",
       "</div>\n",
       "<div class=\"col-12 col-800-3\">\n",
       "<p class=\"profile-subheading\">Contact</p>\n",
       "<div>\n",
       "<a href=\"tel:301-405-9678\">301-405-9678</a>\n",
       "</div>\n",
       "<div>\n",
       "<a href=\"mailto:suresh12@umd.edu\">suresh12@umd.edu</a>\n",
       "</div>\n",
       "<div>4342 Van Munching Hall</div>\n",
       "</div>\n",
       "</div>\n",
       "</div>"
      ]
     },
     "execution_count": 66,
     "metadata": {},
     "output_type": "execute_result"
    }
   ],
   "source": [
    "tagList[0]"
   ]
  },
  {
   "cell_type": "code",
   "execution_count": null,
   "id": "e9d97f71-3554-4ba0-bd13-b1b26b878f2f",
   "metadata": {},
   "outputs": [],
   "source": []
  }
 ],
 "metadata": {
  "kernelspec": {
   "display_name": "Python 3 (ipykernel)",
   "language": "python",
   "name": "python3"
  },
  "language_info": {
   "codemirror_mode": {
    "name": "ipython",
    "version": 3
   },
   "file_extension": ".py",
   "mimetype": "text/x-python",
   "name": "python",
   "nbconvert_exporter": "python",
   "pygments_lexer": "ipython3",
   "version": "3.9.6"
  }
 },
 "nbformat": 4,
 "nbformat_minor": 5
}
